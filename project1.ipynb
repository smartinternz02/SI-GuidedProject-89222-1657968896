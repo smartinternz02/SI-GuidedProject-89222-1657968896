{
 "cells": [
  {
   "cell_type": "code",
   "execution_count": 3,
   "id": "06d4418f",
   "metadata": {},
   "outputs": [
    {
     "name": "stdout",
     "output_type": "stream",
     "text": [
      "Found 15341 images belonging to 6 classes.\n",
      "Found 6825 images belonging to 6 classes.\n",
      "Model: \"sequential\"\n",
      "_________________________________________________________________\n",
      " Layer (type)                Output Shape              Param #   \n",
      "=================================================================\n",
      " conv2d (Conv2D)             (None, 62, 62, 32)        896       \n",
      "                                                                 \n",
      " max_pooling2d (MaxPooling2D  (None, 31, 31, 32)       0         \n",
      " )                                                               \n",
      "                                                                 \n",
      " flatten (Flatten)           (None, 30752)             0         \n",
      "                                                                 \n",
      " dense (Dense)               (None, 32)                984096    \n",
      "                                                                 \n",
      " dense_1 (Dense)             (None, 6)                 198       \n",
      "                                                                 \n",
      "=================================================================\n",
      "Total params: 985,190\n",
      "Trainable params: 985,190\n",
      "Non-trainable params: 0\n",
      "_________________________________________________________________\n"
     ]
    },
    {
     "name": "stderr",
     "output_type": "stream",
     "text": [
      "C:\\Users\\new\\AppData\\Local\\Temp/ipykernel_15544/1775263077.py:22: UserWarning: `Model.fit_generator` is deprecated and will be removed in a future version. Please use `Model.fit`, which supports generators.\n",
      "  model.fit_generator(generator=x_train,steps_per_epoch=len(x_train),epochs=10,validation_data=x_test,validation_steps=len(x_test))\n"
     ]
    },
    {
     "name": "stdout",
     "output_type": "stream",
     "text": [
      "Epoch 1/10\n",
      "480/480 [==============================] - 56s 116ms/step - loss: 1.0016 - accuracy: 0.7487 - val_loss: 0.6975 - val_accuracy: 0.7433\n",
      "Epoch 2/10\n",
      "480/480 [==============================] - 47s 98ms/step - loss: 0.3579 - accuracy: 0.8938 - val_loss: 0.4990 - val_accuracy: 0.8249\n",
      "Epoch 3/10\n",
      "480/480 [==============================] - 45s 93ms/step - loss: 0.2750 - accuracy: 0.9198 - val_loss: 0.4524 - val_accuracy: 0.8334\n",
      "Epoch 4/10\n",
      "480/480 [==============================] - 46s 95ms/step - loss: 0.2379 - accuracy: 0.9300 - val_loss: 0.4224 - val_accuracy: 0.8671\n",
      "Epoch 5/10\n",
      "480/480 [==============================] - 50s 105ms/step - loss: 0.2285 - accuracy: 0.9337 - val_loss: 0.4261 - val_accuracy: 0.8741\n",
      "Epoch 6/10\n",
      "480/480 [==============================] - 53s 111ms/step - loss: 0.2152 - accuracy: 0.9355 - val_loss: 0.3726 - val_accuracy: 0.8851\n",
      "Epoch 7/10\n",
      "480/480 [==============================] - 51s 106ms/step - loss: 0.2129 - accuracy: 0.9374 - val_loss: 0.3985 - val_accuracy: 0.8756\n",
      "Epoch 8/10\n",
      "480/480 [==============================] - 52s 109ms/step - loss: 0.2006 - accuracy: 0.9431 - val_loss: 0.3882 - val_accuracy: 0.8743\n",
      "Epoch 9/10\n",
      "480/480 [==============================] - 53s 110ms/step - loss: 0.1998 - accuracy: 0.9403 - val_loss: 0.3574 - val_accuracy: 0.8941\n",
      "Epoch 10/10\n",
      "480/480 [==============================] - 52s 109ms/step - loss: 0.1920 - accuracy: 0.9434 - val_loss: 0.3542 - val_accuracy: 0.8989\n"
     ]
    },
    {
     "ename": "AttributeError",
     "evalue": "module 'keras.preprocessing.image' has no attribute 'load_img'",
     "output_type": "error",
     "traceback": [
      "\u001b[1;31m---------------------------------------------------------------------------\u001b[0m",
      "\u001b[1;31mAttributeError\u001b[0m                            Traceback (most recent call last)",
      "\u001b[1;32m~\\AppData\\Local\\Temp/ipykernel_15544/1775263077.py\u001b[0m in \u001b[0;36m<module>\u001b[1;34m\u001b[0m\n\u001b[0;32m     27\u001b[0m \u001b[1;32mfrom\u001b[0m \u001b[0mkeras\u001b[0m\u001b[1;33m.\u001b[0m\u001b[0mpreprocessing\u001b[0m \u001b[1;32mimport\u001b[0m \u001b[0mimage\u001b[0m\u001b[1;33m\u001b[0m\u001b[1;33m\u001b[0m\u001b[0m\n\u001b[0;32m     28\u001b[0m \u001b[0mmodel\u001b[0m\u001b[1;33m=\u001b[0m\u001b[0mload_model\u001b[0m\u001b[1;33m(\u001b[0m\u001b[1;34m\"ECG.h5\"\u001b[0m\u001b[1;33m)\u001b[0m\u001b[1;33m\u001b[0m\u001b[1;33m\u001b[0m\u001b[0m\n\u001b[1;32m---> 29\u001b[1;33m \u001b[0mimg\u001b[0m\u001b[1;33m=\u001b[0m\u001b[0mimage\u001b[0m\u001b[1;33m.\u001b[0m\u001b[0mload_img\u001b[0m\u001b[1;33m(\u001b[0m\u001b[1;34m\"C:/Users/new/Desktop/data/test/Normal/fig_2114.png\"\u001b[0m\u001b[1;33m,\u001b[0m\u001b[0mtarget_size\u001b[0m\u001b[1;33m=\u001b[0m\u001b[1;33m(\u001b[0m\u001b[1;36m64\u001b[0m\u001b[1;33m,\u001b[0m\u001b[1;36m64\u001b[0m\u001b[1;33m)\u001b[0m\u001b[1;33m)\u001b[0m\u001b[1;33m\u001b[0m\u001b[1;33m\u001b[0m\u001b[0m\n\u001b[0m\u001b[0;32m     30\u001b[0m \u001b[0mx\u001b[0m\u001b[1;33m=\u001b[0m\u001b[0mimage\u001b[0m\u001b[1;33m.\u001b[0m\u001b[0mimg_to_array\u001b[0m\u001b[1;33m(\u001b[0m\u001b[0mimg\u001b[0m\u001b[1;33m)\u001b[0m\u001b[1;33m\u001b[0m\u001b[1;33m\u001b[0m\u001b[0m\n\u001b[0;32m     31\u001b[0m \u001b[0mx\u001b[0m\u001b[1;33m=\u001b[0m\u001b[0mnp\u001b[0m\u001b[1;33m.\u001b[0m\u001b[0mexpand_dims\u001b[0m\u001b[1;33m(\u001b[0m\u001b[0mx\u001b[0m\u001b[1;33m,\u001b[0m\u001b[0maxis\u001b[0m\u001b[1;33m=\u001b[0m\u001b[1;36m0\u001b[0m\u001b[1;33m)\u001b[0m\u001b[1;33m\u001b[0m\u001b[1;33m\u001b[0m\u001b[0m\n",
      "\u001b[1;31mAttributeError\u001b[0m: module 'keras.preprocessing.image' has no attribute 'load_img'"
     ]
    }
   ],
   "source": [
    "from keras.preprocessing.image import ImageDataGenerator\n",
    "train_datagen=ImageDataGenerator(rescale=1./255,shear_range=0.2,zoom_range=0.2,horizontal_flip=True)\n",
    "test_datagen=ImageDataGenerator(rescale=1./255)\n",
    "x_train=train_datagen.flow_from_directory(directory=r'C:\\Users\\new\\Desktop\\data\\train',target_size=(64,64),batch_size=32,class_mode='categorical')\n",
    "x_test=test_datagen.flow_from_directory(directory=r'C:\\Users\\new\\Desktop\\data\\test',target_size=(64,64),batch_size=32,class_mode='categorical')\n",
    "\n",
    "import numpy as np\n",
    "import tensorflow\n",
    "from tensorflow.keras.models import Sequential\n",
    "from tensorflow.keras import layers\n",
    "from tensorflow.keras.layers import Dense,Flatten\n",
    "from tensorflow.keras.layers import Conv2D,MaxPooling2D\n",
    "model=Sequential()\n",
    "model.add(Conv2D(32,(3,3),input_shape=(64,64,3),activation='relu'))\n",
    "model.add(MaxPooling2D(pool_size=(2,2)))\n",
    "model.add(Flatten())\n",
    "model.add(Dense(32))\n",
    "model.add(Dense(6,activation='softmax'))\n",
    "model.summary()\n",
    "model.compile(optimizer='adam',loss='categorical_crossentropy',metrics=['accuracy'])\n",
    "\n",
    "model.fit_generator(generator=x_train,steps_per_epoch=len(x_train),epochs=10,validation_data=x_test,validation_steps=len(x_test))\n",
    "\n",
    "model.save('ECG.h5')\n",
    "\n",
    "from tensorflow.keras.models import load_model\n",
    "from keras.preprocessing import image\n",
    "model=load_model(\"ECG.h5\")\n",
    "img=image.load_img(\"C:/Users/new/Desktop/data/test/Normal/fig_2114.png\",target_size=(64,64))\n",
    "x=image.img_to_array(img)\n",
    "x=np.expand_dims(x,axis=0)\n",
    "pred=model.predict_classes(x)\n",
    "pred\n",
    "\n",
    "index=[\"Left Bundle Branch Block\",\"Normal\",\"Premature Atrial Contraction\",\"Premature Ventricular Contractions\",\"Right Bundle Branch Block\",\"Ventricular Fibrillation\"]\n",
    "result=str(index[pred[0]])\n",
    "result"
   ]
  },
  {
   "cell_type": "markdown",
   "id": "390bb075",
   "metadata": {},
   "source": []
  },
  {
   "cell_type": "code",
   "execution_count": 16,
   "id": "b816127b",
   "metadata": {},
   "outputs": [
    {
     "name": "stdout",
     "output_type": "stream",
     "text": [
      "1/1 [==============================] - 0s 40ms/step\n"
     ]
    },
    {
     "data": {
      "text/plain": [
       "'Normal'"
      ]
     },
     "execution_count": 16,
     "metadata": {},
     "output_type": "execute_result"
    }
   ],
   "source": [
    "\n",
    "import tensorflow as tf\n",
    "from tensorflow.keras.models import load_model\n",
    "from keras.preprocessing import image\n",
    "model=load_model(\"ECG.h5\")\n",
    "img=tf.keras.utils.load_img(\"C:/Users/new/Desktop/data/test/Normal/fig_2114.png\",target_size=(64,64))\n",
    "x=tf.keras.utils.img_to_array(img)\n",
    "x=np.expand_dims(x,axis=0)\n",
    "pred=model.predict(x)\n",
    "classes_x=np.argmax(pred,axis=1)\n",
    "classes_x\n",
    "#predict_x=model.predict(X_test)classes_x=np.argmax(predict_x,axis=1)\n",
    "index=[\"Left Bundle Branch Block\",\"Normal\",\"Premature Atrial Contraction\",\"Premature Ventricular Contractions\",\"Right Bundle Branch Block\",\"Ventricular Fibrillation\"]\n",
    "result=str(index[classes_x[0]])\n",
    "result"
   ]
  },
  {
   "cell_type": "code",
   "execution_count": null,
   "id": "10ba741c",
   "metadata": {},
   "outputs": [],
   "source": []
  }
 ],
 "metadata": {
  "kernelspec": {
   "display_name": "Python 3 (ipykernel)",
   "language": "python",
   "name": "python3"
  },
  "language_info": {
   "codemirror_mode": {
    "name": "ipython",
    "version": 3
   },
   "file_extension": ".py",
   "mimetype": "text/x-python",
   "name": "python",
   "nbconvert_exporter": "python",
   "pygments_lexer": "ipython3",
   "version": "3.9.7"
  }
 },
 "nbformat": 4,
 "nbformat_minor": 5
}
